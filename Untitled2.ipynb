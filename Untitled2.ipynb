{
 "cells": [
  {
   "cell_type": "code",
   "execution_count": 16,
   "metadata": {},
   "outputs": [],
   "source": [
    "import re\n",
    "import requests\n",
    "import pandas as pd\n",
    "\n",
    "html=requests.get('http://www.footballsquads.co.uk/eng/2019-2020/engprem.htm')\n",
    "#print(html.text)\n",
    "pattern=re.compile(r'<a href=\"engprem/(\\w+).htm\">')\n",
    "htmlarray=pattern.findall(html.text)\n",
    "df=pd.DataFrame({'Name':[],'Position':[],'Club':[]})\n",
    "for x in htmlarray:\n",
    "    html=requests.get('http://www.footballsquads.co.uk/eng/2019-2020/engprem/'+x+'.htm')\n",
    "    htmltext=html.text[:(html.text.find('Players no longer at this club'))]\n",
    "    pattern=re.compile('>(?:<i>)?([#&;\\s\\w-]+)(?:</i>)?</[tT][dD]>(?:\\s+)?<[Tt][Dd]\\s?>(?:<i>)?[A-Z]{3}(?:</i>)?</[Tt][Dd]>')\n",
    "    p=pattern.finditer(htmltext)\n",
    "    tdf=pd.DataFrame({'Name':[],'Position':[],'Club':[]})\n",
    "    array=[]\n",
    "    for y in enumerate(p):\n",
    "        s=y[1].group(1).replace('&nbsp;',' ')\n",
    "        s=s.replace('&#39;',\"'\")\n",
    "        array.append(s)\n",
    "    tdf['Name']=array\n",
    "    #print(array)\n",
    "    pattern2=re.compile('>([\\s\\w+])(?:</i>)?</[Tt][Dd]>')#pos\n",
    "    array2=pattern2.findall(htmltext)\n",
    "    #print(array2)\n",
    "    tdf['Position']=array2\n",
    "    pattern3=re.compile(r'<title>FootballSquads - ([&;\\s\\w-]+) - 2019/2020')\n",
    "    st=pattern3.findall(html.text)\n",
    "    s=st[0]\n",
    "    s=s.replace('&amp;','&')\n",
    "    #print(s)\n",
    "    tdf['Club']=[s]*len(array2)\n",
    "    df=pd.concat([df,tdf])\n",
    "writer=pd.ExcelWriter('D:/players19-20.xlsx')\n",
    "df.to_excel(writer,'Sheet1',index=False)\n",
    "writer.save()"
   ]
  },
  {
   "cell_type": "code",
   "execution_count": 7,
   "metadata": {},
   "outputs": [],
   "source": [
    "import pandas as pd\n",
    "df=pd.DataFrame({'1':[2,4],'2':[2,3]})\n",
    "writer=pd.ExcelWriter('D:/players19-20.xlsx')\n",
    "df.to_excel(writer,'Sheet1',index=False)\n",
    "writer.save()"
   ]
  },
  {
   "cell_type": "code",
   "execution_count": null,
   "metadata": {},
   "outputs": [],
   "source": []
  }
 ],
 "metadata": {
  "kernelspec": {
   "display_name": "Python 3",
   "language": "python",
   "name": "python3"
  },
  "language_info": {
   "codemirror_mode": {
    "name": "ipython",
    "version": 3
   },
   "file_extension": ".py",
   "mimetype": "text/x-python",
   "name": "python",
   "nbconvert_exporter": "python",
   "pygments_lexer": "ipython3",
   "version": "3.7.3"
  }
 },
 "nbformat": 4,
 "nbformat_minor": 2
}
